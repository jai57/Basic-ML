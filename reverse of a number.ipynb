{
  "nbformat": 4,
  "nbformat_minor": 0,
  "metadata": {
    "colab": {
      "name": "Untitled0.ipynb",
      "provenance": [],
      "authorship_tag": "ABX9TyPSyGTWdotVBNXYkLxDofcQ",
      "include_colab_link": true
    },
    "kernelspec": {
      "name": "python3",
      "display_name": "Python 3"
    },
    "language_info": {
      "name": "python"
    }
  },
  "cells": [
    {
      "cell_type": "markdown",
      "metadata": {
        "id": "view-in-github",
        "colab_type": "text"
      },
      "source": [
        "<a href=\"https://colab.research.google.com/github/jai57/Basic-ML/blob/main/reverse%20of%20a%20number.ipynb\" target=\"_parent\"><img src=\"https://colab.research.google.com/assets/colab-badge.svg\" alt=\"Open In Colab\"/></a>"
      ]
    },
    {
      "cell_type": "code",
      "metadata": {
        "id": "qqeMhx9jQBJg"
      },
      "source": [
        ""
      ],
      "execution_count": null,
      "outputs": []
    },
    {
      "cell_type": "markdown",
      "metadata": {
        "id": "zhvhX6w8KiYH"
      },
      "source": [
        "Reverse of a number"
      ]
    },
    {
      "cell_type": "code",
      "metadata": {
        "colab": {
          "base_uri": "https://localhost:8080/"
        },
        "id": "e3GacfdGKkmU",
        "outputId": "9c30d909-39ad-4712-98ca-550f0299698a"
      },
      "source": [
        " \n",
        "a=int(input())\n",
        "reverse=0\n",
        "while(a>0):\n",
        "  remainder=a%10\n",
        "  reverse=reverse*10+remainder\n",
        "  a=a//10\n",
        "print(reverse)"
      ],
      "execution_count": 1,
      "outputs": [
        {
          "output_type": "stream",
          "text": [
            "123\n",
            "321\n"
          ],
          "name": "stdout"
        }
      ]
    },
    {
      "cell_type": "markdown",
      "metadata": {
        "id": "AfDf58LpQAoJ"
      },
      "source": [
        ""
      ]
    }
  ]
}